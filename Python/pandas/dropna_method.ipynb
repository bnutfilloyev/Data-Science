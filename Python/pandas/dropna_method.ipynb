{
 "cells": [
  {
   "cell_type": "code",
   "execution_count": 1,
   "outputs": [],
   "source": [
    "import pandas as pd"
   ],
   "metadata": {
    "collapsed": false,
    "pycharm": {
     "name": "#%%\n"
    }
   }
  },
  {
   "cell_type": "code",
   "execution_count": 2,
   "outputs": [
    {
     "data": {
      "text/plain": "           company   body-style  wheel-base  length engine-type  \\\nindex                                                             \n0      alfa-romero  convertible        88.6   168.8        dohc   \n1      alfa-romero  convertible         NaN   168.8        dohc   \n2      alfa-romero    hatchback        94.5   171.2        ohcv   \n3             audi        sedan        99.8   176.6         ohc   \n4             audi        sedan        99.4   176.6         ohc   \n\n      num-of-cylinders  horsepower  average-mileage    price  \nindex                                                         \n0                 four         NaN             21.0  13495.0  \n1                 four       111.0             21.0  16500.0  \n2                  six       154.0              NaN  16500.0  \n3                 four       102.0             24.0  13950.0  \n4                 five         NaN              NaN  17450.0  ",
      "text/html": "<div>\n<style scoped>\n    .dataframe tbody tr th:only-of-type {\n        vertical-align: middle;\n    }\n\n    .dataframe tbody tr th {\n        vertical-align: top;\n    }\n\n    .dataframe thead th {\n        text-align: right;\n    }\n</style>\n<table border=\"1\" class=\"dataframe\">\n  <thead>\n    <tr style=\"text-align: right;\">\n      <th></th>\n      <th>company</th>\n      <th>body-style</th>\n      <th>wheel-base</th>\n      <th>length</th>\n      <th>engine-type</th>\n      <th>num-of-cylinders</th>\n      <th>horsepower</th>\n      <th>average-mileage</th>\n      <th>price</th>\n    </tr>\n    <tr>\n      <th>index</th>\n      <th></th>\n      <th></th>\n      <th></th>\n      <th></th>\n      <th></th>\n      <th></th>\n      <th></th>\n      <th></th>\n      <th></th>\n    </tr>\n  </thead>\n  <tbody>\n    <tr>\n      <th>0</th>\n      <td>alfa-romero</td>\n      <td>convertible</td>\n      <td>88.6</td>\n      <td>168.8</td>\n      <td>dohc</td>\n      <td>four</td>\n      <td>NaN</td>\n      <td>21.0</td>\n      <td>13495.0</td>\n    </tr>\n    <tr>\n      <th>1</th>\n      <td>alfa-romero</td>\n      <td>convertible</td>\n      <td>NaN</td>\n      <td>168.8</td>\n      <td>dohc</td>\n      <td>four</td>\n      <td>111.0</td>\n      <td>21.0</td>\n      <td>16500.0</td>\n    </tr>\n    <tr>\n      <th>2</th>\n      <td>alfa-romero</td>\n      <td>hatchback</td>\n      <td>94.5</td>\n      <td>171.2</td>\n      <td>ohcv</td>\n      <td>six</td>\n      <td>154.0</td>\n      <td>NaN</td>\n      <td>16500.0</td>\n    </tr>\n    <tr>\n      <th>3</th>\n      <td>audi</td>\n      <td>sedan</td>\n      <td>99.8</td>\n      <td>176.6</td>\n      <td>ohc</td>\n      <td>four</td>\n      <td>102.0</td>\n      <td>24.0</td>\n      <td>13950.0</td>\n    </tr>\n    <tr>\n      <th>4</th>\n      <td>audi</td>\n      <td>sedan</td>\n      <td>99.4</td>\n      <td>176.6</td>\n      <td>ohc</td>\n      <td>five</td>\n      <td>NaN</td>\n      <td>NaN</td>\n      <td>17450.0</td>\n    </tr>\n  </tbody>\n</table>\n</div>"
     },
     "execution_count": 2,
     "metadata": {},
     "output_type": "execute_result"
    }
   ],
   "source": [
    "df = pd.read_csv(\"https://github.com/anvarnarz/praktikum_datasets/raw/main/automobile_data_nan.csv\", index_col=0)\n",
    "df.head()"
   ],
   "metadata": {
    "collapsed": false,
    "pycharm": {
     "name": "#%%\n"
    }
   }
  },
  {
   "cell_type": "code",
   "execution_count": 7,
   "outputs": [
    {
     "data": {
      "text/plain": "company              0\nbody-style           0\nwheel-base          15\nlength              13\nengine-type         12\nnum-of-cylinders     0\nhorsepower          16\naverage-mileage     15\nprice                3\ndtype: int64"
     },
     "execution_count": 7,
     "metadata": {},
     "output_type": "execute_result"
    }
   ],
   "source": [
    "df.isnull().sum()"
   ],
   "metadata": {
    "collapsed": false,
    "pycharm": {
     "name": "#%%\n"
    }
   }
  },
  {
   "cell_type": "code",
   "execution_count": 8,
   "outputs": [
    {
     "data": {
      "text/plain": "company             61\nbody-style          61\nwheel-base          46\nlength              48\nengine-type         49\nnum-of-cylinders    61\nhorsepower          45\naverage-mileage     46\nprice               58\ndtype: int64"
     },
     "execution_count": 8,
     "metadata": {},
     "output_type": "execute_result"
    }
   ],
   "source": [
    "df.notnull().sum()"
   ],
   "metadata": {
    "collapsed": false,
    "pycharm": {
     "name": "#%%\n"
    }
   }
  },
  {
   "cell_type": "code",
   "execution_count": 10,
   "outputs": [
    {
     "data": {
      "text/plain": "(61, 9)"
     },
     "execution_count": 10,
     "metadata": {},
     "output_type": "execute_result"
    }
   ],
   "source": [
    "df.shape"
   ],
   "metadata": {
    "collapsed": false,
    "pycharm": {
     "name": "#%%\n"
    }
   }
  },
  {
   "cell_type": "code",
   "execution_count": 12,
   "outputs": [
    {
     "data": {
      "text/plain": "company              0.000000\nbody-style           0.000000\nwheel-base          24.590164\nlength              21.311475\nengine-type         19.672131\nnum-of-cylinders     0.000000\nhorsepower          26.229508\naverage-mileage     24.590164\nprice                4.918033\ndtype: float64"
     },
     "execution_count": 12,
     "metadata": {},
     "output_type": "execute_result"
    }
   ],
   "source": [
    "df.isnull().sum() * 100 / df.shape[0]"
   ],
   "metadata": {
    "collapsed": false,
    "pycharm": {
     "name": "#%%\n"
    }
   }
  },
  {
   "cell_type": "code",
   "execution_count": 22,
   "outputs": [
    {
     "data": {
      "text/plain": "array(['company', 'body-style', 'wheel-base', 'length', 'engine-type',\n       'num-of-cylinders', 'horsepower', 'average-mileage', 'price'],\n      dtype=object)"
     },
     "execution_count": 22,
     "metadata": {},
     "output_type": "execute_result"
    }
   ],
   "source": [
    "df.columns.values"
   ],
   "metadata": {
    "collapsed": false,
    "pycharm": {
     "name": "#%%\n"
    }
   }
  },
  {
   "cell_type": "code",
   "execution_count": 23,
   "outputs": [
    {
     "data": {
      "text/plain": "Index(['company', 'body-style', 'wheel-base', 'length', 'engine-type',\n       'num-of-cylinders', 'horsepower', 'average-mileage', 'price'],\n      dtype='object')"
     },
     "execution_count": 23,
     "metadata": {},
     "output_type": "execute_result"
    }
   ],
   "source": [
    "df.columns"
   ],
   "metadata": {
    "collapsed": false,
    "pycharm": {
     "name": "#%%\n"
    }
   }
  },
  {
   "cell_type": "code",
   "execution_count": 24,
   "outputs": [
    {
     "data": {
      "text/plain": "             company   body-style  wheel-base  length engine-type  \\\nindex                                                               \n0        alfa-romero  convertible        88.6   168.8        dohc   \n1        alfa-romero  convertible         NaN   168.8        dohc   \n2        alfa-romero    hatchback        94.5   171.2        ohcv   \n3               audi        sedan        99.8   176.6         ohc   \n4               audi        sedan        99.4   176.6         ohc   \n5               audi        sedan        99.8   177.3         ohc   \n6               audi        wagon       105.8   192.7         ohc   \n10               bmw        sedan         NaN   176.8         ohc   \n11               bmw        sedan       101.2   176.8         ohc   \n13               bmw        sedan       103.5   189.0         ohc   \n15               bmw        sedan       110.0   197.0         ohc   \n16         chevrolet    hatchback        88.4   141.1           l   \n17         chevrolet    hatchback        94.5   155.9         ohc   \n18         chevrolet        sedan         NaN   158.8         ohc   \n19             dodge    hatchback        93.7   157.3         ohc   \n28             honda        sedan        96.5   175.4         ohc   \n29             honda        sedan         NaN   169.1         ohc   \n30             isuzu        sedan         NaN   170.7         ohc   \n31             isuzu        sedan        94.5   155.9         ohc   \n34            jaguar        sedan       113.0   199.6        dohc   \n35            jaguar        sedan         NaN   191.7        ohcv   \n36             mazda    hatchback        93.1   159.1         NaN   \n37             mazda    hatchback        93.1   159.1         ohc   \n38             mazda    hatchback        93.1   159.1         ohc   \n43             mazda        sedan       104.9   175.0         ohc   \n44     mercedes-benz        sedan       110.0   190.9         NaN   \n45     mercedes-benz        wagon         NaN   190.9         ohc   \n46     mercedes-benz        sedan       120.9   208.1         NaN   \n47     mercedes-benz      hardtop       112.0   199.2         NaN   \n49        mitsubishi    hatchback         NaN   157.3         ohc   \n51        mitsubishi        sedan        96.3   172.4         NaN   \n52        mitsubishi        sedan        96.3   172.4         ohc   \n54            nissan        sedan        94.5   165.3         ohc   \n55            nissan        sedan         NaN   165.3         ohc   \n56            nissan        wagon        94.5   170.2         ohc   \n57            nissan        sedan       100.4   184.6        ohcv   \n62           porsche  convertible        89.5   168.9        ohcf   \n63           porsche    hatchback        98.4   175.7       dohcv   \n66            toyota    hatchback         NaN   158.7         ohc   \n67            toyota    hatchback        95.7   158.7         NaN   \n68            toyota    hatchback         NaN   158.7         ohc   \n69            toyota        wagon        95.7   169.7         ohc   \n71            toyota        wagon        95.7   169.7         ohc   \n79            toyota        wagon       104.5   187.8        dohc   \n81        volkswagen        sedan        97.3   171.7         ohc   \n82        volkswagen        sedan         NaN   171.7         NaN   \n87             volvo        sedan       104.3   188.8         NaN   \n88             volvo        wagon       104.3   188.8         ohc   \n\n      num-of-cylinders  horsepower  average-mileage    price  \nindex                                                         \n0                 four         NaN             21.0  13495.0  \n1                 four       111.0             21.0  16500.0  \n2                  six       154.0              NaN  16500.0  \n3                 four       102.0             24.0  13950.0  \n4                 five         NaN              NaN  17450.0  \n5                 five       110.0             19.0  15250.0  \n6                 five       110.0             19.0  18920.0  \n10                four       101.0             23.0  16925.0  \n11                 six       121.0              NaN  20970.0  \n13                 six         NaN             16.0  30760.0  \n15                 six       182.0              NaN  36880.0  \n16               three         NaN             47.0   5151.0  \n17                four        70.0             38.0   6295.0  \n18                four        70.0              NaN   6575.0  \n19                four        68.0             31.0   6377.0  \n28                four       101.0             24.0  12945.0  \n29                four         NaN             25.0  10345.0  \n30                four        78.0             24.0   6785.0  \n31                four        70.0              NaN      NaN  \n34                 six       176.0             15.0  35550.0  \n35              twelve       262.0             13.0  36000.0  \n36                four         NaN              NaN   5195.0  \n37                four        68.0             31.0   6095.0  \n38                four        68.0             31.0   6795.0  \n43                four         NaN              NaN  18344.0  \n44                five       123.0             22.0  25552.0  \n45                five       123.0             22.0  28248.0  \n46               eight       184.0             14.0  40960.0  \n47               eight       184.0             14.0  45400.0  \n49                four         NaN             37.0   5389.0  \n51                four        88.0              NaN   6989.0  \n52                four         NaN             25.0   8189.0  \n54                four        69.0             31.0   6649.0  \n55                four        69.0             31.0   6849.0  \n56                four        69.0             31.0   7349.0  \n57                 six       152.0              NaN  13499.0  \n62                 six       207.0             17.0  37028.0  \n63               eight         NaN              NaN      NaN  \n66                four        62.0             35.0   5348.0  \n67                four         NaN             31.0   6338.0  \n68                four        62.0             31.0   6488.0  \n69                four        62.0             31.0   6918.0  \n71                four         NaN             27.0   8778.0  \n79                 six       156.0              NaN  15750.0  \n81                four        85.0             27.0   7975.0  \n82                four        52.0             37.0   7995.0  \n87                four       114.0             23.0  12940.0  \n88                four         NaN             23.0  13415.0  ",
      "text/html": "<div>\n<style scoped>\n    .dataframe tbody tr th:only-of-type {\n        vertical-align: middle;\n    }\n\n    .dataframe tbody tr th {\n        vertical-align: top;\n    }\n\n    .dataframe thead th {\n        text-align: right;\n    }\n</style>\n<table border=\"1\" class=\"dataframe\">\n  <thead>\n    <tr style=\"text-align: right;\">\n      <th></th>\n      <th>company</th>\n      <th>body-style</th>\n      <th>wheel-base</th>\n      <th>length</th>\n      <th>engine-type</th>\n      <th>num-of-cylinders</th>\n      <th>horsepower</th>\n      <th>average-mileage</th>\n      <th>price</th>\n    </tr>\n    <tr>\n      <th>index</th>\n      <th></th>\n      <th></th>\n      <th></th>\n      <th></th>\n      <th></th>\n      <th></th>\n      <th></th>\n      <th></th>\n      <th></th>\n    </tr>\n  </thead>\n  <tbody>\n    <tr>\n      <th>0</th>\n      <td>alfa-romero</td>\n      <td>convertible</td>\n      <td>88.6</td>\n      <td>168.8</td>\n      <td>dohc</td>\n      <td>four</td>\n      <td>NaN</td>\n      <td>21.0</td>\n      <td>13495.0</td>\n    </tr>\n    <tr>\n      <th>1</th>\n      <td>alfa-romero</td>\n      <td>convertible</td>\n      <td>NaN</td>\n      <td>168.8</td>\n      <td>dohc</td>\n      <td>four</td>\n      <td>111.0</td>\n      <td>21.0</td>\n      <td>16500.0</td>\n    </tr>\n    <tr>\n      <th>2</th>\n      <td>alfa-romero</td>\n      <td>hatchback</td>\n      <td>94.5</td>\n      <td>171.2</td>\n      <td>ohcv</td>\n      <td>six</td>\n      <td>154.0</td>\n      <td>NaN</td>\n      <td>16500.0</td>\n    </tr>\n    <tr>\n      <th>3</th>\n      <td>audi</td>\n      <td>sedan</td>\n      <td>99.8</td>\n      <td>176.6</td>\n      <td>ohc</td>\n      <td>four</td>\n      <td>102.0</td>\n      <td>24.0</td>\n      <td>13950.0</td>\n    </tr>\n    <tr>\n      <th>4</th>\n      <td>audi</td>\n      <td>sedan</td>\n      <td>99.4</td>\n      <td>176.6</td>\n      <td>ohc</td>\n      <td>five</td>\n      <td>NaN</td>\n      <td>NaN</td>\n      <td>17450.0</td>\n    </tr>\n    <tr>\n      <th>5</th>\n      <td>audi</td>\n      <td>sedan</td>\n      <td>99.8</td>\n      <td>177.3</td>\n      <td>ohc</td>\n      <td>five</td>\n      <td>110.0</td>\n      <td>19.0</td>\n      <td>15250.0</td>\n    </tr>\n    <tr>\n      <th>6</th>\n      <td>audi</td>\n      <td>wagon</td>\n      <td>105.8</td>\n      <td>192.7</td>\n      <td>ohc</td>\n      <td>five</td>\n      <td>110.0</td>\n      <td>19.0</td>\n      <td>18920.0</td>\n    </tr>\n    <tr>\n      <th>10</th>\n      <td>bmw</td>\n      <td>sedan</td>\n      <td>NaN</td>\n      <td>176.8</td>\n      <td>ohc</td>\n      <td>four</td>\n      <td>101.0</td>\n      <td>23.0</td>\n      <td>16925.0</td>\n    </tr>\n    <tr>\n      <th>11</th>\n      <td>bmw</td>\n      <td>sedan</td>\n      <td>101.2</td>\n      <td>176.8</td>\n      <td>ohc</td>\n      <td>six</td>\n      <td>121.0</td>\n      <td>NaN</td>\n      <td>20970.0</td>\n    </tr>\n    <tr>\n      <th>13</th>\n      <td>bmw</td>\n      <td>sedan</td>\n      <td>103.5</td>\n      <td>189.0</td>\n      <td>ohc</td>\n      <td>six</td>\n      <td>NaN</td>\n      <td>16.0</td>\n      <td>30760.0</td>\n    </tr>\n    <tr>\n      <th>15</th>\n      <td>bmw</td>\n      <td>sedan</td>\n      <td>110.0</td>\n      <td>197.0</td>\n      <td>ohc</td>\n      <td>six</td>\n      <td>182.0</td>\n      <td>NaN</td>\n      <td>36880.0</td>\n    </tr>\n    <tr>\n      <th>16</th>\n      <td>chevrolet</td>\n      <td>hatchback</td>\n      <td>88.4</td>\n      <td>141.1</td>\n      <td>l</td>\n      <td>three</td>\n      <td>NaN</td>\n      <td>47.0</td>\n      <td>5151.0</td>\n    </tr>\n    <tr>\n      <th>17</th>\n      <td>chevrolet</td>\n      <td>hatchback</td>\n      <td>94.5</td>\n      <td>155.9</td>\n      <td>ohc</td>\n      <td>four</td>\n      <td>70.0</td>\n      <td>38.0</td>\n      <td>6295.0</td>\n    </tr>\n    <tr>\n      <th>18</th>\n      <td>chevrolet</td>\n      <td>sedan</td>\n      <td>NaN</td>\n      <td>158.8</td>\n      <td>ohc</td>\n      <td>four</td>\n      <td>70.0</td>\n      <td>NaN</td>\n      <td>6575.0</td>\n    </tr>\n    <tr>\n      <th>19</th>\n      <td>dodge</td>\n      <td>hatchback</td>\n      <td>93.7</td>\n      <td>157.3</td>\n      <td>ohc</td>\n      <td>four</td>\n      <td>68.0</td>\n      <td>31.0</td>\n      <td>6377.0</td>\n    </tr>\n    <tr>\n      <th>28</th>\n      <td>honda</td>\n      <td>sedan</td>\n      <td>96.5</td>\n      <td>175.4</td>\n      <td>ohc</td>\n      <td>four</td>\n      <td>101.0</td>\n      <td>24.0</td>\n      <td>12945.0</td>\n    </tr>\n    <tr>\n      <th>29</th>\n      <td>honda</td>\n      <td>sedan</td>\n      <td>NaN</td>\n      <td>169.1</td>\n      <td>ohc</td>\n      <td>four</td>\n      <td>NaN</td>\n      <td>25.0</td>\n      <td>10345.0</td>\n    </tr>\n    <tr>\n      <th>30</th>\n      <td>isuzu</td>\n      <td>sedan</td>\n      <td>NaN</td>\n      <td>170.7</td>\n      <td>ohc</td>\n      <td>four</td>\n      <td>78.0</td>\n      <td>24.0</td>\n      <td>6785.0</td>\n    </tr>\n    <tr>\n      <th>31</th>\n      <td>isuzu</td>\n      <td>sedan</td>\n      <td>94.5</td>\n      <td>155.9</td>\n      <td>ohc</td>\n      <td>four</td>\n      <td>70.0</td>\n      <td>NaN</td>\n      <td>NaN</td>\n    </tr>\n    <tr>\n      <th>34</th>\n      <td>jaguar</td>\n      <td>sedan</td>\n      <td>113.0</td>\n      <td>199.6</td>\n      <td>dohc</td>\n      <td>six</td>\n      <td>176.0</td>\n      <td>15.0</td>\n      <td>35550.0</td>\n    </tr>\n    <tr>\n      <th>35</th>\n      <td>jaguar</td>\n      <td>sedan</td>\n      <td>NaN</td>\n      <td>191.7</td>\n      <td>ohcv</td>\n      <td>twelve</td>\n      <td>262.0</td>\n      <td>13.0</td>\n      <td>36000.0</td>\n    </tr>\n    <tr>\n      <th>36</th>\n      <td>mazda</td>\n      <td>hatchback</td>\n      <td>93.1</td>\n      <td>159.1</td>\n      <td>NaN</td>\n      <td>four</td>\n      <td>NaN</td>\n      <td>NaN</td>\n      <td>5195.0</td>\n    </tr>\n    <tr>\n      <th>37</th>\n      <td>mazda</td>\n      <td>hatchback</td>\n      <td>93.1</td>\n      <td>159.1</td>\n      <td>ohc</td>\n      <td>four</td>\n      <td>68.0</td>\n      <td>31.0</td>\n      <td>6095.0</td>\n    </tr>\n    <tr>\n      <th>38</th>\n      <td>mazda</td>\n      <td>hatchback</td>\n      <td>93.1</td>\n      <td>159.1</td>\n      <td>ohc</td>\n      <td>four</td>\n      <td>68.0</td>\n      <td>31.0</td>\n      <td>6795.0</td>\n    </tr>\n    <tr>\n      <th>43</th>\n      <td>mazda</td>\n      <td>sedan</td>\n      <td>104.9</td>\n      <td>175.0</td>\n      <td>ohc</td>\n      <td>four</td>\n      <td>NaN</td>\n      <td>NaN</td>\n      <td>18344.0</td>\n    </tr>\n    <tr>\n      <th>44</th>\n      <td>mercedes-benz</td>\n      <td>sedan</td>\n      <td>110.0</td>\n      <td>190.9</td>\n      <td>NaN</td>\n      <td>five</td>\n      <td>123.0</td>\n      <td>22.0</td>\n      <td>25552.0</td>\n    </tr>\n    <tr>\n      <th>45</th>\n      <td>mercedes-benz</td>\n      <td>wagon</td>\n      <td>NaN</td>\n      <td>190.9</td>\n      <td>ohc</td>\n      <td>five</td>\n      <td>123.0</td>\n      <td>22.0</td>\n      <td>28248.0</td>\n    </tr>\n    <tr>\n      <th>46</th>\n      <td>mercedes-benz</td>\n      <td>sedan</td>\n      <td>120.9</td>\n      <td>208.1</td>\n      <td>NaN</td>\n      <td>eight</td>\n      <td>184.0</td>\n      <td>14.0</td>\n      <td>40960.0</td>\n    </tr>\n    <tr>\n      <th>47</th>\n      <td>mercedes-benz</td>\n      <td>hardtop</td>\n      <td>112.0</td>\n      <td>199.2</td>\n      <td>NaN</td>\n      <td>eight</td>\n      <td>184.0</td>\n      <td>14.0</td>\n      <td>45400.0</td>\n    </tr>\n    <tr>\n      <th>49</th>\n      <td>mitsubishi</td>\n      <td>hatchback</td>\n      <td>NaN</td>\n      <td>157.3</td>\n      <td>ohc</td>\n      <td>four</td>\n      <td>NaN</td>\n      <td>37.0</td>\n      <td>5389.0</td>\n    </tr>\n    <tr>\n      <th>51</th>\n      <td>mitsubishi</td>\n      <td>sedan</td>\n      <td>96.3</td>\n      <td>172.4</td>\n      <td>NaN</td>\n      <td>four</td>\n      <td>88.0</td>\n      <td>NaN</td>\n      <td>6989.0</td>\n    </tr>\n    <tr>\n      <th>52</th>\n      <td>mitsubishi</td>\n      <td>sedan</td>\n      <td>96.3</td>\n      <td>172.4</td>\n      <td>ohc</td>\n      <td>four</td>\n      <td>NaN</td>\n      <td>25.0</td>\n      <td>8189.0</td>\n    </tr>\n    <tr>\n      <th>54</th>\n      <td>nissan</td>\n      <td>sedan</td>\n      <td>94.5</td>\n      <td>165.3</td>\n      <td>ohc</td>\n      <td>four</td>\n      <td>69.0</td>\n      <td>31.0</td>\n      <td>6649.0</td>\n    </tr>\n    <tr>\n      <th>55</th>\n      <td>nissan</td>\n      <td>sedan</td>\n      <td>NaN</td>\n      <td>165.3</td>\n      <td>ohc</td>\n      <td>four</td>\n      <td>69.0</td>\n      <td>31.0</td>\n      <td>6849.0</td>\n    </tr>\n    <tr>\n      <th>56</th>\n      <td>nissan</td>\n      <td>wagon</td>\n      <td>94.5</td>\n      <td>170.2</td>\n      <td>ohc</td>\n      <td>four</td>\n      <td>69.0</td>\n      <td>31.0</td>\n      <td>7349.0</td>\n    </tr>\n    <tr>\n      <th>57</th>\n      <td>nissan</td>\n      <td>sedan</td>\n      <td>100.4</td>\n      <td>184.6</td>\n      <td>ohcv</td>\n      <td>six</td>\n      <td>152.0</td>\n      <td>NaN</td>\n      <td>13499.0</td>\n    </tr>\n    <tr>\n      <th>62</th>\n      <td>porsche</td>\n      <td>convertible</td>\n      <td>89.5</td>\n      <td>168.9</td>\n      <td>ohcf</td>\n      <td>six</td>\n      <td>207.0</td>\n      <td>17.0</td>\n      <td>37028.0</td>\n    </tr>\n    <tr>\n      <th>63</th>\n      <td>porsche</td>\n      <td>hatchback</td>\n      <td>98.4</td>\n      <td>175.7</td>\n      <td>dohcv</td>\n      <td>eight</td>\n      <td>NaN</td>\n      <td>NaN</td>\n      <td>NaN</td>\n    </tr>\n    <tr>\n      <th>66</th>\n      <td>toyota</td>\n      <td>hatchback</td>\n      <td>NaN</td>\n      <td>158.7</td>\n      <td>ohc</td>\n      <td>four</td>\n      <td>62.0</td>\n      <td>35.0</td>\n      <td>5348.0</td>\n    </tr>\n    <tr>\n      <th>67</th>\n      <td>toyota</td>\n      <td>hatchback</td>\n      <td>95.7</td>\n      <td>158.7</td>\n      <td>NaN</td>\n      <td>four</td>\n      <td>NaN</td>\n      <td>31.0</td>\n      <td>6338.0</td>\n    </tr>\n    <tr>\n      <th>68</th>\n      <td>toyota</td>\n      <td>hatchback</td>\n      <td>NaN</td>\n      <td>158.7</td>\n      <td>ohc</td>\n      <td>four</td>\n      <td>62.0</td>\n      <td>31.0</td>\n      <td>6488.0</td>\n    </tr>\n    <tr>\n      <th>69</th>\n      <td>toyota</td>\n      <td>wagon</td>\n      <td>95.7</td>\n      <td>169.7</td>\n      <td>ohc</td>\n      <td>four</td>\n      <td>62.0</td>\n      <td>31.0</td>\n      <td>6918.0</td>\n    </tr>\n    <tr>\n      <th>71</th>\n      <td>toyota</td>\n      <td>wagon</td>\n      <td>95.7</td>\n      <td>169.7</td>\n      <td>ohc</td>\n      <td>four</td>\n      <td>NaN</td>\n      <td>27.0</td>\n      <td>8778.0</td>\n    </tr>\n    <tr>\n      <th>79</th>\n      <td>toyota</td>\n      <td>wagon</td>\n      <td>104.5</td>\n      <td>187.8</td>\n      <td>dohc</td>\n      <td>six</td>\n      <td>156.0</td>\n      <td>NaN</td>\n      <td>15750.0</td>\n    </tr>\n    <tr>\n      <th>81</th>\n      <td>volkswagen</td>\n      <td>sedan</td>\n      <td>97.3</td>\n      <td>171.7</td>\n      <td>ohc</td>\n      <td>four</td>\n      <td>85.0</td>\n      <td>27.0</td>\n      <td>7975.0</td>\n    </tr>\n    <tr>\n      <th>82</th>\n      <td>volkswagen</td>\n      <td>sedan</td>\n      <td>NaN</td>\n      <td>171.7</td>\n      <td>NaN</td>\n      <td>four</td>\n      <td>52.0</td>\n      <td>37.0</td>\n      <td>7995.0</td>\n    </tr>\n    <tr>\n      <th>87</th>\n      <td>volvo</td>\n      <td>sedan</td>\n      <td>104.3</td>\n      <td>188.8</td>\n      <td>NaN</td>\n      <td>four</td>\n      <td>114.0</td>\n      <td>23.0</td>\n      <td>12940.0</td>\n    </tr>\n    <tr>\n      <th>88</th>\n      <td>volvo</td>\n      <td>wagon</td>\n      <td>104.3</td>\n      <td>188.8</td>\n      <td>ohc</td>\n      <td>four</td>\n      <td>NaN</td>\n      <td>23.0</td>\n      <td>13415.0</td>\n    </tr>\n  </tbody>\n</table>\n</div>"
     },
     "execution_count": 24,
     "metadata": {},
     "output_type": "execute_result"
    }
   ],
   "source": [
    "df.dropna(subset=['company', 'length'])"
   ],
   "metadata": {
    "collapsed": false,
    "pycharm": {
     "name": "#%%\n"
    }
   }
  },
  {
   "cell_type": "code",
   "execution_count": 25,
   "outputs": [],
   "source": [
    "df.dropna(subset=['price'], inplace=True)"
   ],
   "metadata": {
    "collapsed": false,
    "pycharm": {
     "name": "#%%\n"
    }
   }
  },
  {
   "cell_type": "code",
   "execution_count": 26,
   "outputs": [
    {
     "data": {
      "text/plain": "(58, 9)"
     },
     "execution_count": 26,
     "metadata": {},
     "output_type": "execute_result"
    }
   ],
   "source": [
    "df.shape"
   ],
   "metadata": {
    "collapsed": false,
    "pycharm": {
     "name": "#%%\n"
    }
   }
  },
  {
   "cell_type": "code",
   "execution_count": 27,
   "outputs": [
    {
     "data": {
      "text/plain": "           company   body-style  wheel-base  length engine-type  \\\nindex                                                             \n0      alfa-romero  convertible        88.6   168.8        dohc   \n1      alfa-romero  convertible         NaN   168.8        dohc   \n2      alfa-romero    hatchback        94.5   171.2        ohcv   \n3             audi        sedan        99.8   176.6         ohc   \n4             audi        sedan        99.4   176.6         ohc   \n\n      num-of-cylinders  horsepower  average-mileage    price  \nindex                                                         \n0                 four         NaN             21.0  13495.0  \n1                 four       111.0             21.0  16500.0  \n2                  six       154.0              NaN  16500.0  \n3                 four       102.0             24.0  13950.0  \n4                 five         NaN              NaN  17450.0  ",
      "text/html": "<div>\n<style scoped>\n    .dataframe tbody tr th:only-of-type {\n        vertical-align: middle;\n    }\n\n    .dataframe tbody tr th {\n        vertical-align: top;\n    }\n\n    .dataframe thead th {\n        text-align: right;\n    }\n</style>\n<table border=\"1\" class=\"dataframe\">\n  <thead>\n    <tr style=\"text-align: right;\">\n      <th></th>\n      <th>company</th>\n      <th>body-style</th>\n      <th>wheel-base</th>\n      <th>length</th>\n      <th>engine-type</th>\n      <th>num-of-cylinders</th>\n      <th>horsepower</th>\n      <th>average-mileage</th>\n      <th>price</th>\n    </tr>\n    <tr>\n      <th>index</th>\n      <th></th>\n      <th></th>\n      <th></th>\n      <th></th>\n      <th></th>\n      <th></th>\n      <th></th>\n      <th></th>\n      <th></th>\n    </tr>\n  </thead>\n  <tbody>\n    <tr>\n      <th>0</th>\n      <td>alfa-romero</td>\n      <td>convertible</td>\n      <td>88.6</td>\n      <td>168.8</td>\n      <td>dohc</td>\n      <td>four</td>\n      <td>NaN</td>\n      <td>21.0</td>\n      <td>13495.0</td>\n    </tr>\n    <tr>\n      <th>1</th>\n      <td>alfa-romero</td>\n      <td>convertible</td>\n      <td>NaN</td>\n      <td>168.8</td>\n      <td>dohc</td>\n      <td>four</td>\n      <td>111.0</td>\n      <td>21.0</td>\n      <td>16500.0</td>\n    </tr>\n    <tr>\n      <th>2</th>\n      <td>alfa-romero</td>\n      <td>hatchback</td>\n      <td>94.5</td>\n      <td>171.2</td>\n      <td>ohcv</td>\n      <td>six</td>\n      <td>154.0</td>\n      <td>NaN</td>\n      <td>16500.0</td>\n    </tr>\n    <tr>\n      <th>3</th>\n      <td>audi</td>\n      <td>sedan</td>\n      <td>99.8</td>\n      <td>176.6</td>\n      <td>ohc</td>\n      <td>four</td>\n      <td>102.0</td>\n      <td>24.0</td>\n      <td>13950.0</td>\n    </tr>\n    <tr>\n      <th>4</th>\n      <td>audi</td>\n      <td>sedan</td>\n      <td>99.4</td>\n      <td>176.6</td>\n      <td>ohc</td>\n      <td>five</td>\n      <td>NaN</td>\n      <td>NaN</td>\n      <td>17450.0</td>\n    </tr>\n  </tbody>\n</table>\n</div>"
     },
     "execution_count": 27,
     "metadata": {},
     "output_type": "execute_result"
    }
   ],
   "source": [
    "df.head()"
   ],
   "metadata": {
    "collapsed": false,
    "pycharm": {
     "name": "#%%\n"
    }
   }
  },
  {
   "cell_type": "code",
   "execution_count": null,
   "outputs": [],
   "source": [],
   "metadata": {
    "collapsed": false,
    "pycharm": {
     "name": "#%%\n"
    }
   }
  }
 ],
 "metadata": {
  "kernelspec": {
   "display_name": "Python 3",
   "language": "python",
   "name": "python3"
  },
  "language_info": {
   "codemirror_mode": {
    "name": "ipython",
    "version": 2
   },
   "file_extension": ".py",
   "mimetype": "text/x-python",
   "name": "python",
   "nbconvert_exporter": "python",
   "pygments_lexer": "ipython2",
   "version": "2.7.6"
  }
 },
 "nbformat": 4,
 "nbformat_minor": 0
}