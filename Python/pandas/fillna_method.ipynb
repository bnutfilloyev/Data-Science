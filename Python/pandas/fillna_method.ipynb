{
 "cells": [
  {
   "cell_type": "code",
   "execution_count": 1,
   "outputs": [],
   "source": [
    "import pandas as pd\n",
    "import numpy as np"
   ],
   "metadata": {
    "collapsed": false,
    "pycharm": {
     "name": "#%%\n"
    }
   }
  },
  {
   "cell_type": "code",
   "execution_count": 2,
   "outputs": [
    {
     "data": {
      "text/plain": "           company   body-style  wheel-base  length engine-type  \\\nindex                                                             \n0      alfa-romero  convertible        88.6   168.8        dohc   \n1      alfa-romero  convertible         NaN   168.8        dohc   \n2      alfa-romero    hatchback        94.5   171.2        ohcv   \n3             audi        sedan        99.8   176.6         ohc   \n4             audi        sedan        99.4   176.6         ohc   \n\n      num-of-cylinders  horsepower  average-mileage    price  \nindex                                                         \n0                 four         NaN             21.0  13495.0  \n1                 four       111.0             21.0  16500.0  \n2                  six       154.0              NaN  16500.0  \n3                 four       102.0             24.0  13950.0  \n4                 five         NaN              NaN  17450.0  ",
      "text/html": "<div>\n<style scoped>\n    .dataframe tbody tr th:only-of-type {\n        vertical-align: middle;\n    }\n\n    .dataframe tbody tr th {\n        vertical-align: top;\n    }\n\n    .dataframe thead th {\n        text-align: right;\n    }\n</style>\n<table border=\"1\" class=\"dataframe\">\n  <thead>\n    <tr style=\"text-align: right;\">\n      <th></th>\n      <th>company</th>\n      <th>body-style</th>\n      <th>wheel-base</th>\n      <th>length</th>\n      <th>engine-type</th>\n      <th>num-of-cylinders</th>\n      <th>horsepower</th>\n      <th>average-mileage</th>\n      <th>price</th>\n    </tr>\n    <tr>\n      <th>index</th>\n      <th></th>\n      <th></th>\n      <th></th>\n      <th></th>\n      <th></th>\n      <th></th>\n      <th></th>\n      <th></th>\n      <th></th>\n    </tr>\n  </thead>\n  <tbody>\n    <tr>\n      <th>0</th>\n      <td>alfa-romero</td>\n      <td>convertible</td>\n      <td>88.6</td>\n      <td>168.8</td>\n      <td>dohc</td>\n      <td>four</td>\n      <td>NaN</td>\n      <td>21.0</td>\n      <td>13495.0</td>\n    </tr>\n    <tr>\n      <th>1</th>\n      <td>alfa-romero</td>\n      <td>convertible</td>\n      <td>NaN</td>\n      <td>168.8</td>\n      <td>dohc</td>\n      <td>four</td>\n      <td>111.0</td>\n      <td>21.0</td>\n      <td>16500.0</td>\n    </tr>\n    <tr>\n      <th>2</th>\n      <td>alfa-romero</td>\n      <td>hatchback</td>\n      <td>94.5</td>\n      <td>171.2</td>\n      <td>ohcv</td>\n      <td>six</td>\n      <td>154.0</td>\n      <td>NaN</td>\n      <td>16500.0</td>\n    </tr>\n    <tr>\n      <th>3</th>\n      <td>audi</td>\n      <td>sedan</td>\n      <td>99.8</td>\n      <td>176.6</td>\n      <td>ohc</td>\n      <td>four</td>\n      <td>102.0</td>\n      <td>24.0</td>\n      <td>13950.0</td>\n    </tr>\n    <tr>\n      <th>4</th>\n      <td>audi</td>\n      <td>sedan</td>\n      <td>99.4</td>\n      <td>176.6</td>\n      <td>ohc</td>\n      <td>five</td>\n      <td>NaN</td>\n      <td>NaN</td>\n      <td>17450.0</td>\n    </tr>\n  </tbody>\n</table>\n</div>"
     },
     "execution_count": 2,
     "metadata": {},
     "output_type": "execute_result"
    }
   ],
   "source": [
    "df = pd.read_csv(\"https://github.com/anvarnarz/praktikum_datasets/raw/main/automobile_data_nan.csv\", index_col=0)\n",
    "df.head()"
   ],
   "metadata": {
    "collapsed": false,
    "pycharm": {
     "name": "#%%\n"
    }
   }
  },
  {
   "cell_type": "code",
   "execution_count": 3,
   "outputs": [
    {
     "data": {
      "text/plain": "           company   body-style  wheel-base  length engine-type  \\\nindex                                                             \n0      alfa-romero  convertible        88.6   168.8        dohc   \n1      alfa-romero  convertible         0.0   168.8        dohc   \n2      alfa-romero    hatchback        94.5   171.2        ohcv   \n3             audi        sedan        99.8   176.6         ohc   \n4             audi        sedan        99.4   176.6         ohc   \n...            ...          ...         ...     ...         ...   \n81      volkswagen        sedan        97.3   171.7         ohc   \n82      volkswagen        sedan         0.0   171.7           0   \n86      volkswagen        sedan        97.3     0.0         ohc   \n87           volvo        sedan       104.3   188.8           0   \n88           volvo        wagon       104.3   188.8         ohc   \n\n      num-of-cylinders  horsepower  average-mileage    price  \nindex                                                         \n0                 four         0.0             21.0  13495.0  \n1                 four       111.0             21.0  16500.0  \n2                  six       154.0              0.0  16500.0  \n3                 four       102.0             24.0  13950.0  \n4                 five         0.0              0.0  17450.0  \n...                ...         ...              ...      ...  \n81                four        85.0             27.0   7975.0  \n82                four        52.0             37.0   7995.0  \n86                four       100.0              0.0   9995.0  \n87                four       114.0             23.0  12940.0  \n88                four         0.0             23.0  13415.0  \n\n[61 rows x 9 columns]",
      "text/html": "<div>\n<style scoped>\n    .dataframe tbody tr th:only-of-type {\n        vertical-align: middle;\n    }\n\n    .dataframe tbody tr th {\n        vertical-align: top;\n    }\n\n    .dataframe thead th {\n        text-align: right;\n    }\n</style>\n<table border=\"1\" class=\"dataframe\">\n  <thead>\n    <tr style=\"text-align: right;\">\n      <th></th>\n      <th>company</th>\n      <th>body-style</th>\n      <th>wheel-base</th>\n      <th>length</th>\n      <th>engine-type</th>\n      <th>num-of-cylinders</th>\n      <th>horsepower</th>\n      <th>average-mileage</th>\n      <th>price</th>\n    </tr>\n    <tr>\n      <th>index</th>\n      <th></th>\n      <th></th>\n      <th></th>\n      <th></th>\n      <th></th>\n      <th></th>\n      <th></th>\n      <th></th>\n      <th></th>\n    </tr>\n  </thead>\n  <tbody>\n    <tr>\n      <th>0</th>\n      <td>alfa-romero</td>\n      <td>convertible</td>\n      <td>88.6</td>\n      <td>168.8</td>\n      <td>dohc</td>\n      <td>four</td>\n      <td>0.0</td>\n      <td>21.0</td>\n      <td>13495.0</td>\n    </tr>\n    <tr>\n      <th>1</th>\n      <td>alfa-romero</td>\n      <td>convertible</td>\n      <td>0.0</td>\n      <td>168.8</td>\n      <td>dohc</td>\n      <td>four</td>\n      <td>111.0</td>\n      <td>21.0</td>\n      <td>16500.0</td>\n    </tr>\n    <tr>\n      <th>2</th>\n      <td>alfa-romero</td>\n      <td>hatchback</td>\n      <td>94.5</td>\n      <td>171.2</td>\n      <td>ohcv</td>\n      <td>six</td>\n      <td>154.0</td>\n      <td>0.0</td>\n      <td>16500.0</td>\n    </tr>\n    <tr>\n      <th>3</th>\n      <td>audi</td>\n      <td>sedan</td>\n      <td>99.8</td>\n      <td>176.6</td>\n      <td>ohc</td>\n      <td>four</td>\n      <td>102.0</td>\n      <td>24.0</td>\n      <td>13950.0</td>\n    </tr>\n    <tr>\n      <th>4</th>\n      <td>audi</td>\n      <td>sedan</td>\n      <td>99.4</td>\n      <td>176.6</td>\n      <td>ohc</td>\n      <td>five</td>\n      <td>0.0</td>\n      <td>0.0</td>\n      <td>17450.0</td>\n    </tr>\n    <tr>\n      <th>...</th>\n      <td>...</td>\n      <td>...</td>\n      <td>...</td>\n      <td>...</td>\n      <td>...</td>\n      <td>...</td>\n      <td>...</td>\n      <td>...</td>\n      <td>...</td>\n    </tr>\n    <tr>\n      <th>81</th>\n      <td>volkswagen</td>\n      <td>sedan</td>\n      <td>97.3</td>\n      <td>171.7</td>\n      <td>ohc</td>\n      <td>four</td>\n      <td>85.0</td>\n      <td>27.0</td>\n      <td>7975.0</td>\n    </tr>\n    <tr>\n      <th>82</th>\n      <td>volkswagen</td>\n      <td>sedan</td>\n      <td>0.0</td>\n      <td>171.7</td>\n      <td>0</td>\n      <td>four</td>\n      <td>52.0</td>\n      <td>37.0</td>\n      <td>7995.0</td>\n    </tr>\n    <tr>\n      <th>86</th>\n      <td>volkswagen</td>\n      <td>sedan</td>\n      <td>97.3</td>\n      <td>0.0</td>\n      <td>ohc</td>\n      <td>four</td>\n      <td>100.0</td>\n      <td>0.0</td>\n      <td>9995.0</td>\n    </tr>\n    <tr>\n      <th>87</th>\n      <td>volvo</td>\n      <td>sedan</td>\n      <td>104.3</td>\n      <td>188.8</td>\n      <td>0</td>\n      <td>four</td>\n      <td>114.0</td>\n      <td>23.0</td>\n      <td>12940.0</td>\n    </tr>\n    <tr>\n      <th>88</th>\n      <td>volvo</td>\n      <td>wagon</td>\n      <td>104.3</td>\n      <td>188.8</td>\n      <td>ohc</td>\n      <td>four</td>\n      <td>0.0</td>\n      <td>23.0</td>\n      <td>13415.0</td>\n    </tr>\n  </tbody>\n</table>\n<p>61 rows × 9 columns</p>\n</div>"
     },
     "execution_count": 3,
     "metadata": {},
     "output_type": "execute_result"
    }
   ],
   "source": [
    "df.fillna(0)"
   ],
   "metadata": {
    "collapsed": false,
    "pycharm": {
     "name": "#%%\n"
    }
   }
  },
  {
   "cell_type": "code",
   "execution_count": 5,
   "outputs": [
    {
     "data": {
      "text/plain": "           company   body-style  wheel-base  length engine-type  \\\nindex                                                             \n0      alfa-romero  convertible        88.6   168.8        dohc   \n1      alfa-romero  convertible        88.6   168.8        dohc   \n2      alfa-romero    hatchback        94.5   171.2        ohcv   \n3             audi        sedan        99.8   176.6         ohc   \n4             audi        sedan        99.4   176.6         ohc   \n...            ...          ...         ...     ...         ...   \n81      volkswagen        sedan        97.3   171.7         ohc   \n82      volkswagen        sedan        97.3   171.7         ohc   \n86      volkswagen        sedan        97.3   171.7         ohc   \n87           volvo        sedan       104.3   188.8         ohc   \n88           volvo        wagon       104.3   188.8         ohc   \n\n      num-of-cylinders  horsepower  average-mileage    price  \nindex                                                         \n0                 four         NaN             21.0  13495.0  \n1                 four       111.0             21.0  16500.0  \n2                  six       154.0             21.0  16500.0  \n3                 four       102.0             24.0  13950.0  \n4                 five       102.0             24.0  17450.0  \n...                ...         ...              ...      ...  \n81                four        85.0             27.0   7975.0  \n82                four        52.0             37.0   7995.0  \n86                four       100.0             37.0   9995.0  \n87                four       114.0             23.0  12940.0  \n88                four       114.0             23.0  13415.0  \n\n[61 rows x 9 columns]",
      "text/html": "<div>\n<style scoped>\n    .dataframe tbody tr th:only-of-type {\n        vertical-align: middle;\n    }\n\n    .dataframe tbody tr th {\n        vertical-align: top;\n    }\n\n    .dataframe thead th {\n        text-align: right;\n    }\n</style>\n<table border=\"1\" class=\"dataframe\">\n  <thead>\n    <tr style=\"text-align: right;\">\n      <th></th>\n      <th>company</th>\n      <th>body-style</th>\n      <th>wheel-base</th>\n      <th>length</th>\n      <th>engine-type</th>\n      <th>num-of-cylinders</th>\n      <th>horsepower</th>\n      <th>average-mileage</th>\n      <th>price</th>\n    </tr>\n    <tr>\n      <th>index</th>\n      <th></th>\n      <th></th>\n      <th></th>\n      <th></th>\n      <th></th>\n      <th></th>\n      <th></th>\n      <th></th>\n      <th></th>\n    </tr>\n  </thead>\n  <tbody>\n    <tr>\n      <th>0</th>\n      <td>alfa-romero</td>\n      <td>convertible</td>\n      <td>88.6</td>\n      <td>168.8</td>\n      <td>dohc</td>\n      <td>four</td>\n      <td>NaN</td>\n      <td>21.0</td>\n      <td>13495.0</td>\n    </tr>\n    <tr>\n      <th>1</th>\n      <td>alfa-romero</td>\n      <td>convertible</td>\n      <td>88.6</td>\n      <td>168.8</td>\n      <td>dohc</td>\n      <td>four</td>\n      <td>111.0</td>\n      <td>21.0</td>\n      <td>16500.0</td>\n    </tr>\n    <tr>\n      <th>2</th>\n      <td>alfa-romero</td>\n      <td>hatchback</td>\n      <td>94.5</td>\n      <td>171.2</td>\n      <td>ohcv</td>\n      <td>six</td>\n      <td>154.0</td>\n      <td>21.0</td>\n      <td>16500.0</td>\n    </tr>\n    <tr>\n      <th>3</th>\n      <td>audi</td>\n      <td>sedan</td>\n      <td>99.8</td>\n      <td>176.6</td>\n      <td>ohc</td>\n      <td>four</td>\n      <td>102.0</td>\n      <td>24.0</td>\n      <td>13950.0</td>\n    </tr>\n    <tr>\n      <th>4</th>\n      <td>audi</td>\n      <td>sedan</td>\n      <td>99.4</td>\n      <td>176.6</td>\n      <td>ohc</td>\n      <td>five</td>\n      <td>102.0</td>\n      <td>24.0</td>\n      <td>17450.0</td>\n    </tr>\n    <tr>\n      <th>...</th>\n      <td>...</td>\n      <td>...</td>\n      <td>...</td>\n      <td>...</td>\n      <td>...</td>\n      <td>...</td>\n      <td>...</td>\n      <td>...</td>\n      <td>...</td>\n    </tr>\n    <tr>\n      <th>81</th>\n      <td>volkswagen</td>\n      <td>sedan</td>\n      <td>97.3</td>\n      <td>171.7</td>\n      <td>ohc</td>\n      <td>four</td>\n      <td>85.0</td>\n      <td>27.0</td>\n      <td>7975.0</td>\n    </tr>\n    <tr>\n      <th>82</th>\n      <td>volkswagen</td>\n      <td>sedan</td>\n      <td>97.3</td>\n      <td>171.7</td>\n      <td>ohc</td>\n      <td>four</td>\n      <td>52.0</td>\n      <td>37.0</td>\n      <td>7995.0</td>\n    </tr>\n    <tr>\n      <th>86</th>\n      <td>volkswagen</td>\n      <td>sedan</td>\n      <td>97.3</td>\n      <td>171.7</td>\n      <td>ohc</td>\n      <td>four</td>\n      <td>100.0</td>\n      <td>37.0</td>\n      <td>9995.0</td>\n    </tr>\n    <tr>\n      <th>87</th>\n      <td>volvo</td>\n      <td>sedan</td>\n      <td>104.3</td>\n      <td>188.8</td>\n      <td>ohc</td>\n      <td>four</td>\n      <td>114.0</td>\n      <td>23.0</td>\n      <td>12940.0</td>\n    </tr>\n    <tr>\n      <th>88</th>\n      <td>volvo</td>\n      <td>wagon</td>\n      <td>104.3</td>\n      <td>188.8</td>\n      <td>ohc</td>\n      <td>four</td>\n      <td>114.0</td>\n      <td>23.0</td>\n      <td>13415.0</td>\n    </tr>\n  </tbody>\n</table>\n<p>61 rows × 9 columns</p>\n</div>"
     },
     "execution_count": 5,
     "metadata": {},
     "output_type": "execute_result"
    }
   ],
   "source": [
    "df.fillna(method='ffill')"
   ],
   "metadata": {
    "collapsed": false,
    "pycharm": {
     "name": "#%%\n"
    }
   }
  },
  {
   "cell_type": "code",
   "execution_count": 6,
   "outputs": [
    {
     "data": {
      "text/plain": "           company   body-style  wheel-base  length engine-type  \\\nindex                                                             \n0      alfa-romero  convertible        88.6   168.8        dohc   \n1      alfa-romero  convertible        94.5   168.8        dohc   \n2      alfa-romero    hatchback        94.5   171.2        ohcv   \n3             audi        sedan        99.8   176.6         ohc   \n4             audi        sedan        99.4   176.6         ohc   \n...            ...          ...         ...     ...         ...   \n81      volkswagen        sedan        97.3   171.7         ohc   \n82      volkswagen        sedan        97.3   171.7         ohc   \n86      volkswagen        sedan        97.3   188.8         ohc   \n87           volvo        sedan       104.3   188.8         ohc   \n88           volvo        wagon       104.3   188.8         ohc   \n\n      num-of-cylinders  horsepower  average-mileage    price  \nindex                                                         \n0                 four       111.0             21.0  13495.0  \n1                 four       111.0             21.0  16500.0  \n2                  six       154.0             24.0  16500.0  \n3                 four       102.0             24.0  13950.0  \n4                 five       110.0             19.0  17450.0  \n...                ...         ...              ...      ...  \n81                four        85.0             27.0   7975.0  \n82                four        52.0             37.0   7995.0  \n86                four       100.0             23.0   9995.0  \n87                four       114.0             23.0  12940.0  \n88                four         NaN             23.0  13415.0  \n\n[61 rows x 9 columns]",
      "text/html": "<div>\n<style scoped>\n    .dataframe tbody tr th:only-of-type {\n        vertical-align: middle;\n    }\n\n    .dataframe tbody tr th {\n        vertical-align: top;\n    }\n\n    .dataframe thead th {\n        text-align: right;\n    }\n</style>\n<table border=\"1\" class=\"dataframe\">\n  <thead>\n    <tr style=\"text-align: right;\">\n      <th></th>\n      <th>company</th>\n      <th>body-style</th>\n      <th>wheel-base</th>\n      <th>length</th>\n      <th>engine-type</th>\n      <th>num-of-cylinders</th>\n      <th>horsepower</th>\n      <th>average-mileage</th>\n      <th>price</th>\n    </tr>\n    <tr>\n      <th>index</th>\n      <th></th>\n      <th></th>\n      <th></th>\n      <th></th>\n      <th></th>\n      <th></th>\n      <th></th>\n      <th></th>\n      <th></th>\n    </tr>\n  </thead>\n  <tbody>\n    <tr>\n      <th>0</th>\n      <td>alfa-romero</td>\n      <td>convertible</td>\n      <td>88.6</td>\n      <td>168.8</td>\n      <td>dohc</td>\n      <td>four</td>\n      <td>111.0</td>\n      <td>21.0</td>\n      <td>13495.0</td>\n    </tr>\n    <tr>\n      <th>1</th>\n      <td>alfa-romero</td>\n      <td>convertible</td>\n      <td>94.5</td>\n      <td>168.8</td>\n      <td>dohc</td>\n      <td>four</td>\n      <td>111.0</td>\n      <td>21.0</td>\n      <td>16500.0</td>\n    </tr>\n    <tr>\n      <th>2</th>\n      <td>alfa-romero</td>\n      <td>hatchback</td>\n      <td>94.5</td>\n      <td>171.2</td>\n      <td>ohcv</td>\n      <td>six</td>\n      <td>154.0</td>\n      <td>24.0</td>\n      <td>16500.0</td>\n    </tr>\n    <tr>\n      <th>3</th>\n      <td>audi</td>\n      <td>sedan</td>\n      <td>99.8</td>\n      <td>176.6</td>\n      <td>ohc</td>\n      <td>four</td>\n      <td>102.0</td>\n      <td>24.0</td>\n      <td>13950.0</td>\n    </tr>\n    <tr>\n      <th>4</th>\n      <td>audi</td>\n      <td>sedan</td>\n      <td>99.4</td>\n      <td>176.6</td>\n      <td>ohc</td>\n      <td>five</td>\n      <td>110.0</td>\n      <td>19.0</td>\n      <td>17450.0</td>\n    </tr>\n    <tr>\n      <th>...</th>\n      <td>...</td>\n      <td>...</td>\n      <td>...</td>\n      <td>...</td>\n      <td>...</td>\n      <td>...</td>\n      <td>...</td>\n      <td>...</td>\n      <td>...</td>\n    </tr>\n    <tr>\n      <th>81</th>\n      <td>volkswagen</td>\n      <td>sedan</td>\n      <td>97.3</td>\n      <td>171.7</td>\n      <td>ohc</td>\n      <td>four</td>\n      <td>85.0</td>\n      <td>27.0</td>\n      <td>7975.0</td>\n    </tr>\n    <tr>\n      <th>82</th>\n      <td>volkswagen</td>\n      <td>sedan</td>\n      <td>97.3</td>\n      <td>171.7</td>\n      <td>ohc</td>\n      <td>four</td>\n      <td>52.0</td>\n      <td>37.0</td>\n      <td>7995.0</td>\n    </tr>\n    <tr>\n      <th>86</th>\n      <td>volkswagen</td>\n      <td>sedan</td>\n      <td>97.3</td>\n      <td>188.8</td>\n      <td>ohc</td>\n      <td>four</td>\n      <td>100.0</td>\n      <td>23.0</td>\n      <td>9995.0</td>\n    </tr>\n    <tr>\n      <th>87</th>\n      <td>volvo</td>\n      <td>sedan</td>\n      <td>104.3</td>\n      <td>188.8</td>\n      <td>ohc</td>\n      <td>four</td>\n      <td>114.0</td>\n      <td>23.0</td>\n      <td>12940.0</td>\n    </tr>\n    <tr>\n      <th>88</th>\n      <td>volvo</td>\n      <td>wagon</td>\n      <td>104.3</td>\n      <td>188.8</td>\n      <td>ohc</td>\n      <td>four</td>\n      <td>NaN</td>\n      <td>23.0</td>\n      <td>13415.0</td>\n    </tr>\n  </tbody>\n</table>\n<p>61 rows × 9 columns</p>\n</div>"
     },
     "execution_count": 6,
     "metadata": {},
     "output_type": "execute_result"
    }
   ],
   "source": [
    "df.fillna(method='bfill')"
   ],
   "metadata": {
    "collapsed": false,
    "pycharm": {
     "name": "#%%\n"
    }
   }
  },
  {
   "cell_type": "code",
   "execution_count": 7,
   "outputs": [
    {
     "data": {
      "text/plain": "           company   body-style  wheel-base  length engine-type  \\\nindex                                                             \n0      alfa-romero  convertible   88.600000   168.8        dohc   \n1      alfa-romero  convertible   99.219565   168.8        dohc   \n2      alfa-romero    hatchback   94.500000   171.2        ohcv   \n3             audi        sedan   99.800000   176.6         ohc   \n4             audi        sedan   99.400000   176.6         ohc   \n...            ...          ...         ...     ...         ...   \n81      volkswagen        sedan   97.300000   171.7         ohc   \n82      volkswagen        sedan   99.219565   171.7         NaN   \n86      volkswagen        sedan   97.300000     NaN         ohc   \n87           volvo        sedan  104.300000   188.8         NaN   \n88           volvo        wagon  104.300000   188.8         ohc   \n\n      num-of-cylinders  horsepower  average-mileage    price  \nindex                                                         \n0                 four         NaN             21.0  13495.0  \n1                 four       111.0             21.0  16500.0  \n2                  six       154.0              NaN  16500.0  \n3                 four       102.0             24.0  13950.0  \n4                 five         NaN              NaN  17450.0  \n...                ...         ...              ...      ...  \n81                four        85.0             27.0   7975.0  \n82                four        52.0             37.0   7995.0  \n86                four       100.0              NaN   9995.0  \n87                four       114.0             23.0  12940.0  \n88                four         NaN             23.0  13415.0  \n\n[61 rows x 9 columns]",
      "text/html": "<div>\n<style scoped>\n    .dataframe tbody tr th:only-of-type {\n        vertical-align: middle;\n    }\n\n    .dataframe tbody tr th {\n        vertical-align: top;\n    }\n\n    .dataframe thead th {\n        text-align: right;\n    }\n</style>\n<table border=\"1\" class=\"dataframe\">\n  <thead>\n    <tr style=\"text-align: right;\">\n      <th></th>\n      <th>company</th>\n      <th>body-style</th>\n      <th>wheel-base</th>\n      <th>length</th>\n      <th>engine-type</th>\n      <th>num-of-cylinders</th>\n      <th>horsepower</th>\n      <th>average-mileage</th>\n      <th>price</th>\n    </tr>\n    <tr>\n      <th>index</th>\n      <th></th>\n      <th></th>\n      <th></th>\n      <th></th>\n      <th></th>\n      <th></th>\n      <th></th>\n      <th></th>\n      <th></th>\n    </tr>\n  </thead>\n  <tbody>\n    <tr>\n      <th>0</th>\n      <td>alfa-romero</td>\n      <td>convertible</td>\n      <td>88.600000</td>\n      <td>168.8</td>\n      <td>dohc</td>\n      <td>four</td>\n      <td>NaN</td>\n      <td>21.0</td>\n      <td>13495.0</td>\n    </tr>\n    <tr>\n      <th>1</th>\n      <td>alfa-romero</td>\n      <td>convertible</td>\n      <td>99.219565</td>\n      <td>168.8</td>\n      <td>dohc</td>\n      <td>four</td>\n      <td>111.0</td>\n      <td>21.0</td>\n      <td>16500.0</td>\n    </tr>\n    <tr>\n      <th>2</th>\n      <td>alfa-romero</td>\n      <td>hatchback</td>\n      <td>94.500000</td>\n      <td>171.2</td>\n      <td>ohcv</td>\n      <td>six</td>\n      <td>154.0</td>\n      <td>NaN</td>\n      <td>16500.0</td>\n    </tr>\n    <tr>\n      <th>3</th>\n      <td>audi</td>\n      <td>sedan</td>\n      <td>99.800000</td>\n      <td>176.6</td>\n      <td>ohc</td>\n      <td>four</td>\n      <td>102.0</td>\n      <td>24.0</td>\n      <td>13950.0</td>\n    </tr>\n    <tr>\n      <th>4</th>\n      <td>audi</td>\n      <td>sedan</td>\n      <td>99.400000</td>\n      <td>176.6</td>\n      <td>ohc</td>\n      <td>five</td>\n      <td>NaN</td>\n      <td>NaN</td>\n      <td>17450.0</td>\n    </tr>\n    <tr>\n      <th>...</th>\n      <td>...</td>\n      <td>...</td>\n      <td>...</td>\n      <td>...</td>\n      <td>...</td>\n      <td>...</td>\n      <td>...</td>\n      <td>...</td>\n      <td>...</td>\n    </tr>\n    <tr>\n      <th>81</th>\n      <td>volkswagen</td>\n      <td>sedan</td>\n      <td>97.300000</td>\n      <td>171.7</td>\n      <td>ohc</td>\n      <td>four</td>\n      <td>85.0</td>\n      <td>27.0</td>\n      <td>7975.0</td>\n    </tr>\n    <tr>\n      <th>82</th>\n      <td>volkswagen</td>\n      <td>sedan</td>\n      <td>99.219565</td>\n      <td>171.7</td>\n      <td>NaN</td>\n      <td>four</td>\n      <td>52.0</td>\n      <td>37.0</td>\n      <td>7995.0</td>\n    </tr>\n    <tr>\n      <th>86</th>\n      <td>volkswagen</td>\n      <td>sedan</td>\n      <td>97.300000</td>\n      <td>NaN</td>\n      <td>ohc</td>\n      <td>four</td>\n      <td>100.0</td>\n      <td>NaN</td>\n      <td>9995.0</td>\n    </tr>\n    <tr>\n      <th>87</th>\n      <td>volvo</td>\n      <td>sedan</td>\n      <td>104.300000</td>\n      <td>188.8</td>\n      <td>NaN</td>\n      <td>four</td>\n      <td>114.0</td>\n      <td>23.0</td>\n      <td>12940.0</td>\n    </tr>\n    <tr>\n      <th>88</th>\n      <td>volvo</td>\n      <td>wagon</td>\n      <td>104.300000</td>\n      <td>188.8</td>\n      <td>ohc</td>\n      <td>four</td>\n      <td>NaN</td>\n      <td>23.0</td>\n      <td>13415.0</td>\n    </tr>\n  </tbody>\n</table>\n<p>61 rows × 9 columns</p>\n</div>"
     },
     "execution_count": 7,
     "metadata": {},
     "output_type": "execute_result"
    }
   ],
   "source": [
    "df.fillna({'wheel-base': np.mean(df['wheel-base'])})"
   ],
   "metadata": {
    "collapsed": false,
    "pycharm": {
     "name": "#%%\n"
    }
   }
  },
  {
   "cell_type": "code",
   "execution_count": 11,
   "outputs": [
    {
     "data": {
      "text/plain": "      company body-style  wheel-base  length engine-type num-of-cylinders  \\\nindex                                                                       \n3        audi      sedan        99.8   176.6         ohc             four   \n4        audi      sedan        99.4   176.6         ohc             five   \n5        audi      sedan        99.8   177.3         ohc             five   \n6        audi      wagon       105.8   192.7         ohc             five   \n\n       horsepower  average-mileage    price  \nindex                                        \n3           102.0             24.0  13950.0  \n4           110.0             19.0  17450.0  \n5           110.0             19.0  15250.0  \n6           110.0             19.0  18920.0  ",
      "text/html": "<div>\n<style scoped>\n    .dataframe tbody tr th:only-of-type {\n        vertical-align: middle;\n    }\n\n    .dataframe tbody tr th {\n        vertical-align: top;\n    }\n\n    .dataframe thead th {\n        text-align: right;\n    }\n</style>\n<table border=\"1\" class=\"dataframe\">\n  <thead>\n    <tr style=\"text-align: right;\">\n      <th></th>\n      <th>company</th>\n      <th>body-style</th>\n      <th>wheel-base</th>\n      <th>length</th>\n      <th>engine-type</th>\n      <th>num-of-cylinders</th>\n      <th>horsepower</th>\n      <th>average-mileage</th>\n      <th>price</th>\n    </tr>\n    <tr>\n      <th>index</th>\n      <th></th>\n      <th></th>\n      <th></th>\n      <th></th>\n      <th></th>\n      <th></th>\n      <th></th>\n      <th></th>\n      <th></th>\n    </tr>\n  </thead>\n  <tbody>\n    <tr>\n      <th>3</th>\n      <td>audi</td>\n      <td>sedan</td>\n      <td>99.8</td>\n      <td>176.6</td>\n      <td>ohc</td>\n      <td>four</td>\n      <td>102.0</td>\n      <td>24.0</td>\n      <td>13950.0</td>\n    </tr>\n    <tr>\n      <th>4</th>\n      <td>audi</td>\n      <td>sedan</td>\n      <td>99.4</td>\n      <td>176.6</td>\n      <td>ohc</td>\n      <td>five</td>\n      <td>110.0</td>\n      <td>19.0</td>\n      <td>17450.0</td>\n    </tr>\n    <tr>\n      <th>5</th>\n      <td>audi</td>\n      <td>sedan</td>\n      <td>99.8</td>\n      <td>177.3</td>\n      <td>ohc</td>\n      <td>five</td>\n      <td>110.0</td>\n      <td>19.0</td>\n      <td>15250.0</td>\n    </tr>\n    <tr>\n      <th>6</th>\n      <td>audi</td>\n      <td>wagon</td>\n      <td>105.8</td>\n      <td>192.7</td>\n      <td>ohc</td>\n      <td>five</td>\n      <td>110.0</td>\n      <td>19.0</td>\n      <td>18920.0</td>\n    </tr>\n  </tbody>\n</table>\n</div>"
     },
     "execution_count": 11,
     "metadata": {},
     "output_type": "execute_result"
    }
   ],
   "source": [
    "df[df.company == 'audi'].fillna(method='backfill')"
   ],
   "metadata": {
    "collapsed": false,
    "pycharm": {
     "name": "#%%\n"
    }
   }
  },
  {
   "cell_type": "code",
   "execution_count": 13,
   "outputs": [
    {
     "name": "stderr",
     "output_type": "stream",
     "text": [
      "<ipython-input-13-a2478f315f9e>:1: FutureWarning: Dropping of nuisance columns in DataFrame reductions (with 'numeric_only=None') is deprecated; in a future version this will raise TypeError.  Select only valid columns before calling the reduction.\n",
      "  df.fillna(df.mean())\n"
     ]
    },
    {
     "data": {
      "text/plain": "           company   body-style  wheel-base      length engine-type  \\\nindex                                                                 \n0      alfa-romero  convertible   88.600000  168.800000        dohc   \n1      alfa-romero  convertible   99.219565  168.800000        dohc   \n2      alfa-romero    hatchback   94.500000  171.200000        ohcv   \n3             audi        sedan   99.800000  176.600000         ohc   \n4             audi        sedan   99.400000  176.600000         ohc   \n...            ...          ...         ...         ...         ...   \n81      volkswagen        sedan   97.300000  171.700000         ohc   \n82      volkswagen        sedan   99.219565  171.700000         NaN   \n86      volkswagen        sedan   97.300000  173.852083         ohc   \n87           volvo        sedan  104.300000  188.800000         NaN   \n88           volvo        wagon  104.300000  188.800000         ohc   \n\n      num-of-cylinders  horsepower  average-mileage    price  \nindex                                                         \n0                 four  108.266667        21.000000  13495.0  \n1                 four  111.000000        21.000000  16500.0  \n2                  six  154.000000        25.695652  16500.0  \n3                 four  102.000000        24.000000  13950.0  \n4                 five  108.266667        25.695652  17450.0  \n...                ...         ...              ...      ...  \n81                four   85.000000        27.000000   7975.0  \n82                four   52.000000        37.000000   7995.0  \n86                four  100.000000        25.695652   9995.0  \n87                four  114.000000        23.000000  12940.0  \n88                four  108.266667        23.000000  13415.0  \n\n[61 rows x 9 columns]",
      "text/html": "<div>\n<style scoped>\n    .dataframe tbody tr th:only-of-type {\n        vertical-align: middle;\n    }\n\n    .dataframe tbody tr th {\n        vertical-align: top;\n    }\n\n    .dataframe thead th {\n        text-align: right;\n    }\n</style>\n<table border=\"1\" class=\"dataframe\">\n  <thead>\n    <tr style=\"text-align: right;\">\n      <th></th>\n      <th>company</th>\n      <th>body-style</th>\n      <th>wheel-base</th>\n      <th>length</th>\n      <th>engine-type</th>\n      <th>num-of-cylinders</th>\n      <th>horsepower</th>\n      <th>average-mileage</th>\n      <th>price</th>\n    </tr>\n    <tr>\n      <th>index</th>\n      <th></th>\n      <th></th>\n      <th></th>\n      <th></th>\n      <th></th>\n      <th></th>\n      <th></th>\n      <th></th>\n      <th></th>\n    </tr>\n  </thead>\n  <tbody>\n    <tr>\n      <th>0</th>\n      <td>alfa-romero</td>\n      <td>convertible</td>\n      <td>88.600000</td>\n      <td>168.800000</td>\n      <td>dohc</td>\n      <td>four</td>\n      <td>108.266667</td>\n      <td>21.000000</td>\n      <td>13495.0</td>\n    </tr>\n    <tr>\n      <th>1</th>\n      <td>alfa-romero</td>\n      <td>convertible</td>\n      <td>99.219565</td>\n      <td>168.800000</td>\n      <td>dohc</td>\n      <td>four</td>\n      <td>111.000000</td>\n      <td>21.000000</td>\n      <td>16500.0</td>\n    </tr>\n    <tr>\n      <th>2</th>\n      <td>alfa-romero</td>\n      <td>hatchback</td>\n      <td>94.500000</td>\n      <td>171.200000</td>\n      <td>ohcv</td>\n      <td>six</td>\n      <td>154.000000</td>\n      <td>25.695652</td>\n      <td>16500.0</td>\n    </tr>\n    <tr>\n      <th>3</th>\n      <td>audi</td>\n      <td>sedan</td>\n      <td>99.800000</td>\n      <td>176.600000</td>\n      <td>ohc</td>\n      <td>four</td>\n      <td>102.000000</td>\n      <td>24.000000</td>\n      <td>13950.0</td>\n    </tr>\n    <tr>\n      <th>4</th>\n      <td>audi</td>\n      <td>sedan</td>\n      <td>99.400000</td>\n      <td>176.600000</td>\n      <td>ohc</td>\n      <td>five</td>\n      <td>108.266667</td>\n      <td>25.695652</td>\n      <td>17450.0</td>\n    </tr>\n    <tr>\n      <th>...</th>\n      <td>...</td>\n      <td>...</td>\n      <td>...</td>\n      <td>...</td>\n      <td>...</td>\n      <td>...</td>\n      <td>...</td>\n      <td>...</td>\n      <td>...</td>\n    </tr>\n    <tr>\n      <th>81</th>\n      <td>volkswagen</td>\n      <td>sedan</td>\n      <td>97.300000</td>\n      <td>171.700000</td>\n      <td>ohc</td>\n      <td>four</td>\n      <td>85.000000</td>\n      <td>27.000000</td>\n      <td>7975.0</td>\n    </tr>\n    <tr>\n      <th>82</th>\n      <td>volkswagen</td>\n      <td>sedan</td>\n      <td>99.219565</td>\n      <td>171.700000</td>\n      <td>NaN</td>\n      <td>four</td>\n      <td>52.000000</td>\n      <td>37.000000</td>\n      <td>7995.0</td>\n    </tr>\n    <tr>\n      <th>86</th>\n      <td>volkswagen</td>\n      <td>sedan</td>\n      <td>97.300000</td>\n      <td>173.852083</td>\n      <td>ohc</td>\n      <td>four</td>\n      <td>100.000000</td>\n      <td>25.695652</td>\n      <td>9995.0</td>\n    </tr>\n    <tr>\n      <th>87</th>\n      <td>volvo</td>\n      <td>sedan</td>\n      <td>104.300000</td>\n      <td>188.800000</td>\n      <td>NaN</td>\n      <td>four</td>\n      <td>114.000000</td>\n      <td>23.000000</td>\n      <td>12940.0</td>\n    </tr>\n    <tr>\n      <th>88</th>\n      <td>volvo</td>\n      <td>wagon</td>\n      <td>104.300000</td>\n      <td>188.800000</td>\n      <td>ohc</td>\n      <td>four</td>\n      <td>108.266667</td>\n      <td>23.000000</td>\n      <td>13415.0</td>\n    </tr>\n  </tbody>\n</table>\n<p>61 rows × 9 columns</p>\n</div>"
     },
     "execution_count": 13,
     "metadata": {},
     "output_type": "execute_result"
    }
   ],
   "source": [
    "df.fillna(df.mean())"
   ],
   "metadata": {
    "collapsed": false,
    "pycharm": {
     "name": "#%%\n"
    }
   }
  },
  {
   "cell_type": "code",
   "execution_count": null,
   "outputs": [],
   "source": [],
   "metadata": {
    "collapsed": false,
    "pycharm": {
     "name": "#%%\n"
    }
   }
  }
 ],
 "metadata": {
  "kernelspec": {
   "display_name": "Python 3",
   "language": "python",
   "name": "python3"
  },
  "language_info": {
   "codemirror_mode": {
    "name": "ipython",
    "version": 2
   },
   "file_extension": ".py",
   "mimetype": "text/x-python",
   "name": "python",
   "nbconvert_exporter": "python",
   "pygments_lexer": "ipython2",
   "version": "2.7.6"
  }
 },
 "nbformat": 4,
 "nbformat_minor": 0
}